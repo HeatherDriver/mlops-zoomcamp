{
 "cells": [
  {
   "cell_type": "code",
   "execution_count": 1,
   "id": "d968928b",
   "metadata": {},
   "outputs": [
    {
     "name": "stdout",
     "output_type": "stream",
     "text": [
      "              total        used        free      shared  buff/cache   available\r\n",
      "Mem:          7.8Gi       1.2Gi       5.6Gi        61Mi       1.0Gi       6.2Gi\r\n",
      "Swap:            0B          0B          0B\r\n"
     ]
    }
   ],
   "source": [
    "!free -h"
   ]
  },
  {
   "cell_type": "code",
   "execution_count": 2,
   "id": "1d5da650",
   "metadata": {},
   "outputs": [],
   "source": [
    "import pandas as pd\n",
    "import numpy as np\n",
    "import matplotlib.pyplot as plt\n",
    "from sklearn.feature_extraction import DictVectorizer\n",
    "from sklearn.linear_model import LinearRegression\n",
    "from sklearn.metrics import mean_squared_error\n",
    "import seaborn as sns\n",
    "import gc"
   ]
  },
  {
   "cell_type": "code",
   "execution_count": 3,
   "id": "8974cd5a",
   "metadata": {},
   "outputs": [],
   "source": [
    "df = pd.read_parquet('https://d37ci6vzurychx.cloudfront.net/trip-data/yellow_tripdata_2024-11.parquet')"
   ]
  },
  {
   "cell_type": "code",
   "execution_count": 4,
   "id": "0300101a",
   "metadata": {},
   "outputs": [
    {
     "data": {
      "text/html": [
       "<div>\n",
       "<style scoped>\n",
       "    .dataframe tbody tr th:only-of-type {\n",
       "        vertical-align: middle;\n",
       "    }\n",
       "\n",
       "    .dataframe tbody tr th {\n",
       "        vertical-align: top;\n",
       "    }\n",
       "\n",
       "    .dataframe thead th {\n",
       "        text-align: right;\n",
       "    }\n",
       "</style>\n",
       "<table border=\"1\" class=\"dataframe\">\n",
       "  <thead>\n",
       "    <tr style=\"text-align: right;\">\n",
       "      <th></th>\n",
       "      <th>VendorID</th>\n",
       "      <th>tpep_pickup_datetime</th>\n",
       "      <th>tpep_dropoff_datetime</th>\n",
       "      <th>passenger_count</th>\n",
       "      <th>trip_distance</th>\n",
       "      <th>RatecodeID</th>\n",
       "      <th>store_and_fwd_flag</th>\n",
       "      <th>PULocationID</th>\n",
       "      <th>DOLocationID</th>\n",
       "      <th>payment_type</th>\n",
       "      <th>fare_amount</th>\n",
       "      <th>extra</th>\n",
       "      <th>mta_tax</th>\n",
       "      <th>tip_amount</th>\n",
       "      <th>tolls_amount</th>\n",
       "      <th>improvement_surcharge</th>\n",
       "      <th>total_amount</th>\n",
       "      <th>congestion_surcharge</th>\n",
       "      <th>Airport_fee</th>\n",
       "    </tr>\n",
       "  </thead>\n",
       "  <tbody>\n",
       "    <tr>\n",
       "      <th>0</th>\n",
       "      <td>2</td>\n",
       "      <td>2024-11-01 00:46:24</td>\n",
       "      <td>2024-11-01 00:57:17</td>\n",
       "      <td>1.0</td>\n",
       "      <td>1.93</td>\n",
       "      <td>1.0</td>\n",
       "      <td>N</td>\n",
       "      <td>239</td>\n",
       "      <td>262</td>\n",
       "      <td>2</td>\n",
       "      <td>-12.8</td>\n",
       "      <td>-1.0</td>\n",
       "      <td>-0.5</td>\n",
       "      <td>0.0</td>\n",
       "      <td>0.0</td>\n",
       "      <td>-1.0</td>\n",
       "      <td>-17.8</td>\n",
       "      <td>-2.5</td>\n",
       "      <td>0.0</td>\n",
       "    </tr>\n",
       "    <tr>\n",
       "      <th>1</th>\n",
       "      <td>2</td>\n",
       "      <td>2024-11-01 00:46:24</td>\n",
       "      <td>2024-11-01 00:57:17</td>\n",
       "      <td>1.0</td>\n",
       "      <td>1.93</td>\n",
       "      <td>1.0</td>\n",
       "      <td>N</td>\n",
       "      <td>239</td>\n",
       "      <td>263</td>\n",
       "      <td>2</td>\n",
       "      <td>12.8</td>\n",
       "      <td>1.0</td>\n",
       "      <td>0.5</td>\n",
       "      <td>0.0</td>\n",
       "      <td>0.0</td>\n",
       "      <td>1.0</td>\n",
       "      <td>17.8</td>\n",
       "      <td>2.5</td>\n",
       "      <td>0.0</td>\n",
       "    </tr>\n",
       "    <tr>\n",
       "      <th>2</th>\n",
       "      <td>1</td>\n",
       "      <td>2024-11-01 00:37:36</td>\n",
       "      <td>2024-11-01 01:28:36</td>\n",
       "      <td>1.0</td>\n",
       "      <td>34.30</td>\n",
       "      <td>5.0</td>\n",
       "      <td>N</td>\n",
       "      <td>219</td>\n",
       "      <td>265</td>\n",
       "      <td>1</td>\n",
       "      <td>259.0</td>\n",
       "      <td>0.0</td>\n",
       "      <td>0.0</td>\n",
       "      <td>15.0</td>\n",
       "      <td>0.0</td>\n",
       "      <td>1.0</td>\n",
       "      <td>275.0</td>\n",
       "      <td>0.0</td>\n",
       "      <td>0.0</td>\n",
       "    </tr>\n",
       "    <tr>\n",
       "      <th>3</th>\n",
       "      <td>2</td>\n",
       "      <td>2024-11-01 00:12:55</td>\n",
       "      <td>2024-11-01 00:22:17</td>\n",
       "      <td>2.0</td>\n",
       "      <td>0.93</td>\n",
       "      <td>1.0</td>\n",
       "      <td>N</td>\n",
       "      <td>186</td>\n",
       "      <td>107</td>\n",
       "      <td>1</td>\n",
       "      <td>10.0</td>\n",
       "      <td>1.0</td>\n",
       "      <td>0.5</td>\n",
       "      <td>1.0</td>\n",
       "      <td>0.0</td>\n",
       "      <td>1.0</td>\n",
       "      <td>16.0</td>\n",
       "      <td>2.5</td>\n",
       "      <td>0.0</td>\n",
       "    </tr>\n",
       "    <tr>\n",
       "      <th>4</th>\n",
       "      <td>2</td>\n",
       "      <td>2024-11-01 00:54:45</td>\n",
       "      <td>2024-11-01 00:59:47</td>\n",
       "      <td>1.0</td>\n",
       "      <td>0.38</td>\n",
       "      <td>1.0</td>\n",
       "      <td>N</td>\n",
       "      <td>79</td>\n",
       "      <td>79</td>\n",
       "      <td>1</td>\n",
       "      <td>6.5</td>\n",
       "      <td>1.0</td>\n",
       "      <td>0.5</td>\n",
       "      <td>1.0</td>\n",
       "      <td>0.0</td>\n",
       "      <td>1.0</td>\n",
       "      <td>12.5</td>\n",
       "      <td>2.5</td>\n",
       "      <td>0.0</td>\n",
       "    </tr>\n",
       "  </tbody>\n",
       "</table>\n",
       "</div>"
      ],
      "text/plain": [
       "   VendorID tpep_pickup_datetime tpep_dropoff_datetime  passenger_count  \\\n",
       "0         2  2024-11-01 00:46:24   2024-11-01 00:57:17              1.0   \n",
       "1         2  2024-11-01 00:46:24   2024-11-01 00:57:17              1.0   \n",
       "2         1  2024-11-01 00:37:36   2024-11-01 01:28:36              1.0   \n",
       "3         2  2024-11-01 00:12:55   2024-11-01 00:22:17              2.0   \n",
       "4         2  2024-11-01 00:54:45   2024-11-01 00:59:47              1.0   \n",
       "\n",
       "   trip_distance  RatecodeID store_and_fwd_flag  PULocationID  DOLocationID  \\\n",
       "0           1.93         1.0                  N           239           262   \n",
       "1           1.93         1.0                  N           239           263   \n",
       "2          34.30         5.0                  N           219           265   \n",
       "3           0.93         1.0                  N           186           107   \n",
       "4           0.38         1.0                  N            79            79   \n",
       "\n",
       "   payment_type  fare_amount  extra  mta_tax  tip_amount  tolls_amount  \\\n",
       "0             2        -12.8   -1.0     -0.5         0.0           0.0   \n",
       "1             2         12.8    1.0      0.5         0.0           0.0   \n",
       "2             1        259.0    0.0      0.0        15.0           0.0   \n",
       "3             1         10.0    1.0      0.5         1.0           0.0   \n",
       "4             1          6.5    1.0      0.5         1.0           0.0   \n",
       "\n",
       "   improvement_surcharge  total_amount  congestion_surcharge  Airport_fee  \n",
       "0                   -1.0         -17.8                  -2.5          0.0  \n",
       "1                    1.0          17.8                   2.5          0.0  \n",
       "2                    1.0         275.0                   0.0          0.0  \n",
       "3                    1.0          16.0                   2.5          0.0  \n",
       "4                    1.0          12.5                   2.5          0.0  "
      ]
     },
     "execution_count": 4,
     "metadata": {},
     "output_type": "execute_result"
    }
   ],
   "source": [
    "df.head()"
   ]
  },
  {
   "cell_type": "markdown",
   "id": "9ac5c16b",
   "metadata": {},
   "source": [
    "## Calculating duration"
   ]
  },
  {
   "cell_type": "code",
   "execution_count": 5,
   "id": "eb41369b",
   "metadata": {},
   "outputs": [],
   "source": [
    "df['duration'] = df['tpep_dropoff_datetime'] - df['tpep_pickup_datetime']\n",
    "df['duration_minutes'] = df['duration'].dt.total_seconds() / 60"
   ]
  },
  {
   "cell_type": "code",
   "execution_count": 6,
   "id": "2ea0b46d",
   "metadata": {},
   "outputs": [
    {
     "data": {
      "text/plain": [
       "count                      3646369\n",
       "mean     0 days 00:17:47.288417326\n",
       "std      0 days 00:33:09.711682470\n",
       "min              -1 days +23:01:47\n",
       "25%                0 days 00:08:03\n",
       "50%                0 days 00:13:23\n",
       "75%                0 days 00:21:38\n",
       "max                3 days 23:51:17\n",
       "Name: duration, dtype: object"
      ]
     },
     "execution_count": 6,
     "metadata": {},
     "output_type": "execute_result"
    }
   ],
   "source": [
    "df['duration'].describe()"
   ]
  },
  {
   "cell_type": "code",
   "execution_count": 7,
   "id": "b4190617",
   "metadata": {},
   "outputs": [
    {
     "data": {
      "text/html": [
       "<div>\n",
       "<style scoped>\n",
       "    .dataframe tbody tr th:only-of-type {\n",
       "        vertical-align: middle;\n",
       "    }\n",
       "\n",
       "    .dataframe tbody tr th {\n",
       "        vertical-align: top;\n",
       "    }\n",
       "\n",
       "    .dataframe thead th {\n",
       "        text-align: right;\n",
       "    }\n",
       "</style>\n",
       "<table border=\"1\" class=\"dataframe\">\n",
       "  <thead>\n",
       "    <tr style=\"text-align: right;\">\n",
       "      <th></th>\n",
       "      <th>VendorID</th>\n",
       "      <th>tpep_pickup_datetime</th>\n",
       "      <th>tpep_dropoff_datetime</th>\n",
       "      <th>passenger_count</th>\n",
       "      <th>trip_distance</th>\n",
       "      <th>RatecodeID</th>\n",
       "      <th>store_and_fwd_flag</th>\n",
       "      <th>PULocationID</th>\n",
       "      <th>DOLocationID</th>\n",
       "      <th>payment_type</th>\n",
       "      <th>...</th>\n",
       "      <th>mta_tax</th>\n",
       "      <th>tip_amount</th>\n",
       "      <th>tolls_amount</th>\n",
       "      <th>improvement_surcharge</th>\n",
       "      <th>total_amount</th>\n",
       "      <th>congestion_surcharge</th>\n",
       "      <th>Airport_fee</th>\n",
       "      <th>duration</th>\n",
       "      <th>duration_minutes</th>\n",
       "      <th>date</th>\n",
       "    </tr>\n",
       "  </thead>\n",
       "  <tbody>\n",
       "    <tr>\n",
       "      <th>0</th>\n",
       "      <td>2</td>\n",
       "      <td>2024-11-01 00:46:24</td>\n",
       "      <td>2024-11-01 00:57:17</td>\n",
       "      <td>1.0</td>\n",
       "      <td>1.93</td>\n",
       "      <td>1.0</td>\n",
       "      <td>N</td>\n",
       "      <td>239</td>\n",
       "      <td>262</td>\n",
       "      <td>2</td>\n",
       "      <td>...</td>\n",
       "      <td>-0.5</td>\n",
       "      <td>0.0</td>\n",
       "      <td>0.0</td>\n",
       "      <td>-1.0</td>\n",
       "      <td>-17.8</td>\n",
       "      <td>-2.5</td>\n",
       "      <td>0.0</td>\n",
       "      <td>0 days 00:10:53</td>\n",
       "      <td>10.883333</td>\n",
       "      <td>2024-11-01</td>\n",
       "    </tr>\n",
       "    <tr>\n",
       "      <th>1</th>\n",
       "      <td>2</td>\n",
       "      <td>2024-11-01 00:46:24</td>\n",
       "      <td>2024-11-01 00:57:17</td>\n",
       "      <td>1.0</td>\n",
       "      <td>1.93</td>\n",
       "      <td>1.0</td>\n",
       "      <td>N</td>\n",
       "      <td>239</td>\n",
       "      <td>263</td>\n",
       "      <td>2</td>\n",
       "      <td>...</td>\n",
       "      <td>0.5</td>\n",
       "      <td>0.0</td>\n",
       "      <td>0.0</td>\n",
       "      <td>1.0</td>\n",
       "      <td>17.8</td>\n",
       "      <td>2.5</td>\n",
       "      <td>0.0</td>\n",
       "      <td>0 days 00:10:53</td>\n",
       "      <td>10.883333</td>\n",
       "      <td>2024-11-01</td>\n",
       "    </tr>\n",
       "    <tr>\n",
       "      <th>2</th>\n",
       "      <td>1</td>\n",
       "      <td>2024-11-01 00:37:36</td>\n",
       "      <td>2024-11-01 01:28:36</td>\n",
       "      <td>1.0</td>\n",
       "      <td>34.30</td>\n",
       "      <td>5.0</td>\n",
       "      <td>N</td>\n",
       "      <td>219</td>\n",
       "      <td>265</td>\n",
       "      <td>1</td>\n",
       "      <td>...</td>\n",
       "      <td>0.0</td>\n",
       "      <td>15.0</td>\n",
       "      <td>0.0</td>\n",
       "      <td>1.0</td>\n",
       "      <td>275.0</td>\n",
       "      <td>0.0</td>\n",
       "      <td>0.0</td>\n",
       "      <td>0 days 00:51:00</td>\n",
       "      <td>51.000000</td>\n",
       "      <td>2024-11-01</td>\n",
       "    </tr>\n",
       "    <tr>\n",
       "      <th>3</th>\n",
       "      <td>2</td>\n",
       "      <td>2024-11-01 00:12:55</td>\n",
       "      <td>2024-11-01 00:22:17</td>\n",
       "      <td>2.0</td>\n",
       "      <td>0.93</td>\n",
       "      <td>1.0</td>\n",
       "      <td>N</td>\n",
       "      <td>186</td>\n",
       "      <td>107</td>\n",
       "      <td>1</td>\n",
       "      <td>...</td>\n",
       "      <td>0.5</td>\n",
       "      <td>1.0</td>\n",
       "      <td>0.0</td>\n",
       "      <td>1.0</td>\n",
       "      <td>16.0</td>\n",
       "      <td>2.5</td>\n",
       "      <td>0.0</td>\n",
       "      <td>0 days 00:09:22</td>\n",
       "      <td>9.366667</td>\n",
       "      <td>2024-11-01</td>\n",
       "    </tr>\n",
       "    <tr>\n",
       "      <th>4</th>\n",
       "      <td>2</td>\n",
       "      <td>2024-11-01 00:54:45</td>\n",
       "      <td>2024-11-01 00:59:47</td>\n",
       "      <td>1.0</td>\n",
       "      <td>0.38</td>\n",
       "      <td>1.0</td>\n",
       "      <td>N</td>\n",
       "      <td>79</td>\n",
       "      <td>79</td>\n",
       "      <td>1</td>\n",
       "      <td>...</td>\n",
       "      <td>0.5</td>\n",
       "      <td>1.0</td>\n",
       "      <td>0.0</td>\n",
       "      <td>1.0</td>\n",
       "      <td>12.5</td>\n",
       "      <td>2.5</td>\n",
       "      <td>0.0</td>\n",
       "      <td>0 days 00:05:02</td>\n",
       "      <td>5.033333</td>\n",
       "      <td>2024-11-01</td>\n",
       "    </tr>\n",
       "  </tbody>\n",
       "</table>\n",
       "<p>5 rows × 22 columns</p>\n",
       "</div>"
      ],
      "text/plain": [
       "   VendorID tpep_pickup_datetime tpep_dropoff_datetime  passenger_count  \\\n",
       "0         2  2024-11-01 00:46:24   2024-11-01 00:57:17              1.0   \n",
       "1         2  2024-11-01 00:46:24   2024-11-01 00:57:17              1.0   \n",
       "2         1  2024-11-01 00:37:36   2024-11-01 01:28:36              1.0   \n",
       "3         2  2024-11-01 00:12:55   2024-11-01 00:22:17              2.0   \n",
       "4         2  2024-11-01 00:54:45   2024-11-01 00:59:47              1.0   \n",
       "\n",
       "   trip_distance  RatecodeID store_and_fwd_flag  PULocationID  DOLocationID  \\\n",
       "0           1.93         1.0                  N           239           262   \n",
       "1           1.93         1.0                  N           239           263   \n",
       "2          34.30         5.0                  N           219           265   \n",
       "3           0.93         1.0                  N           186           107   \n",
       "4           0.38         1.0                  N            79            79   \n",
       "\n",
       "   payment_type  ...  mta_tax  tip_amount  tolls_amount  \\\n",
       "0             2  ...     -0.5         0.0           0.0   \n",
       "1             2  ...      0.5         0.0           0.0   \n",
       "2             1  ...      0.0        15.0           0.0   \n",
       "3             1  ...      0.5         1.0           0.0   \n",
       "4             1  ...      0.5         1.0           0.0   \n",
       "\n",
       "   improvement_surcharge  total_amount  congestion_surcharge  Airport_fee  \\\n",
       "0                   -1.0         -17.8                  -2.5          0.0   \n",
       "1                    1.0          17.8                   2.5          0.0   \n",
       "2                    1.0         275.0                   0.0          0.0   \n",
       "3                    1.0          16.0                   2.5          0.0   \n",
       "4                    1.0          12.5                   2.5          0.0   \n",
       "\n",
       "         duration  duration_minutes        date  \n",
       "0 0 days 00:10:53         10.883333  2024-11-01  \n",
       "1 0 days 00:10:53         10.883333  2024-11-01  \n",
       "2 0 days 00:51:00         51.000000  2024-11-01  \n",
       "3 0 days 00:09:22          9.366667  2024-11-01  \n",
       "4 0 days 00:05:02          5.033333  2024-11-01  \n",
       "\n",
       "[5 rows x 22 columns]"
      ]
     },
     "execution_count": 7,
     "metadata": {},
     "output_type": "execute_result"
    }
   ],
   "source": [
    "df['date'] = df['tpep_pickup_datetime'].dt.date\n",
    "df.head()"
   ]
  },
  {
   "cell_type": "code",
   "execution_count": 8,
   "id": "2e9e7ab5",
   "metadata": {},
   "outputs": [],
   "source": [
    "df['date'] = pd.to_datetime(df['date'])\n",
    "df = df.loc[(df['date'] > pd.Timestamp(\"2024-10-31\")) & \n",
    "            (df['date'] <= pd.Timestamp(\"2024-11-30\"))].copy()"
   ]
  },
  {
   "cell_type": "code",
   "execution_count": 9,
   "id": "df8b6af5",
   "metadata": {
    "scrolled": true
   },
   "outputs": [
    {
     "data": {
      "image/png": "[encoded data removed]",
      "text/plain": [
       "<Figure size 576x360 with 1 Axes>"
      ]
     },
     "metadata": {
      "needs_background": "light"
     },
     "output_type": "display_data"
    }
   ],
   "source": [
    "date_counts = df['date'].value_counts().sort_index()\n",
    "\n",
    "# Plot histogram\n",
    "date_counts.plot(kind='bar', figsize=(8,5))\n",
    "plt.xlabel('Date')\n",
    "plt.ylabel('Count')\n",
    "plt.title('Count of Records by Day')\n",
    "plt.xticks(rotation=45)\n",
    "plt.show()"
   ]
  },
  {
   "cell_type": "code",
   "execution_count": 10,
   "id": "620f729f",
   "metadata": {},
   "outputs": [
    {
     "data": {
      "text/plain": [
       "<AxesSubplot:ylabel='Frequency'>"
      ]
     },
     "execution_count": 10,
     "metadata": {},
     "output_type": "execute_result"
    },
    {
     "data": {
      "image/png": "[encoded data removed]",
      "text/plain": [
       "<Figure size 432x288 with 1 Axes>"
      ]
     },
     "metadata": {
      "needs_background": "light"
     },
     "output_type": "display_data"
    }
   ],
   "source": [
    "df['duration_minutes'].plot.hist()"
   ]
  },
  {
   "cell_type": "markdown",
   "id": "99175450",
   "metadata": {},
   "source": [
    "## Select trips between 1 and 60 minutes"
   ]
  },
  {
   "cell_type": "code",
   "execution_count": 11,
   "id": "fabf4612",
   "metadata": {},
   "outputs": [
    {
     "data": {
      "text/plain": [
       "0.9673459727467618"
      ]
     },
     "execution_count": 11,
     "metadata": {},
     "output_type": "execute_result"
    }
   ],
   "source": [
    "(df.loc[(df.duration_minutes >= 1 ) & (df.duration_minutes <= 60)].shape[0])/(df.shape[0])"
   ]
  },
  {
   "cell_type": "code",
   "execution_count": 12,
   "id": "592bdc77",
   "metadata": {},
   "outputs": [],
   "source": [
    "df = df.loc[(df.duration_minutes >= 1 ) & (df.duration_minutes <= 60)].copy()"
   ]
  },
  {
   "cell_type": "code",
   "execution_count": 13,
   "id": "81c96163",
   "metadata": {},
   "outputs": [
    {
     "data": {
      "text/plain": [
       "(3527252, 22)"
      ]
     },
     "execution_count": 13,
     "metadata": {},
     "output_type": "execute_result"
    }
   ],
   "source": [
    "df.shape #2,898,888"
   ]
  },
  {
   "cell_type": "markdown",
   "id": "16832192",
   "metadata": {},
   "source": [
    "## One hot encoding for categories"
   ]
  },
  {
   "cell_type": "code",
   "execution_count": 14,
   "id": "7d711079",
   "metadata": {},
   "outputs": [],
   "source": [
    "categorical = ['PULocationID', 'DOLocationID']\n",
    "df[categorical] = df[categorical].astype(str)"
   ]
  },
  {
   "cell_type": "code",
   "execution_count": 15,
   "id": "e8d76ca0",
   "metadata": {},
   "outputs": [],
   "source": [
    "train_dicts = df[categorical].to_dict(orient='records')"
   ]
  },
  {
   "cell_type": "code",
   "execution_count": 16,
   "id": "e0ae3ae0",
   "metadata": {},
   "outputs": [],
   "source": [
    "dv = DictVectorizer()\n",
    "X_train = dv.fit_transform(train_dicts)"
   ]
  },
  {
   "cell_type": "code",
   "execution_count": 17,
   "id": "fe89bb67",
   "metadata": {},
   "outputs": [
    {
     "data": {
      "text/plain": [
       "(3527252, 517)"
      ]
     },
     "execution_count": 17,
     "metadata": {},
     "output_type": "execute_result"
    }
   ],
   "source": [
    "X_train.shape"
   ]
  },
  {
   "cell_type": "markdown",
   "id": "06db6251",
   "metadata": {},
   "source": [
    "## Model training"
   ]
  },
  {
   "cell_type": "code",
   "execution_count": 18,
   "id": "ba9c2f85",
   "metadata": {},
   "outputs": [],
   "source": [
    "y_train = df['duration_minutes'].values"
   ]
  },
  {
   "cell_type": "code",
   "execution_count": 19,
   "id": "20760a27",
   "metadata": {},
   "outputs": [
    {
     "data": {
      "text/plain": [
       "LinearRegression()"
      ]
     },
     "execution_count": 19,
     "metadata": {},
     "output_type": "execute_result"
    }
   ],
   "source": [
    "lr = LinearRegression()\n",
    "lr.fit(X_train, y_train)"
   ]
  },
  {
   "cell_type": "code",
   "execution_count": 20,
   "id": "53faabf5",
   "metadata": {},
   "outputs": [
    {
     "name": "stdout",
     "output_type": "stream",
     "text": [
      "Train RMSE: 9.023149657359115\n"
     ]
    }
   ],
   "source": [
    "y_pred = lr.predict(X_train)\n",
    "print(f'Train RMSE: {mean_squared_error(y_train, y_pred, squared=False)}')"
   ]
  },
  {
   "cell_type": "code",
   "execution_count": null,
   "id": "47ca8442",
   "metadata": {},
   "outputs": [],
   "source": [
    "sns.histplot(y_pred, label='prediction',color='red')\n",
    "sns.histplot(y_train, label='actual', color='blue', alpha=0.5)\n",
    "\n",
    "plt.legend();"
   ]
  },
  {
   "cell_type": "code",
   "execution_count": 21,
   "id": "358f9c92",
   "metadata": {},
   "outputs": [
    {
     "name": "stdout",
     "output_type": "stream",
     "text": [
      "              total        used        free      shared  buff/cache   available\r\n",
      "Mem:          7.8Gi       5.2Gi       1.6Gi        61Mi       1.0Gi       2.2Gi\r\n",
      "Swap:            0B          0B          0B\r\n"
     ]
    }
   ],
   "source": [
    "!free -h"
   ]
  },
  {
   "cell_type": "code",
   "execution_count": 22,
   "id": "139ca90a",
   "metadata": {},
   "outputs": [
    {
     "data": {
      "text/plain": [
       "6526"
      ]
     },
     "execution_count": 22,
     "metadata": {},
     "output_type": "execute_result"
    }
   ],
   "source": [
    "# Save reference to model\n",
    "model = lr  \n",
    "keep_vars = {'model', 'gc', 'dv', 'pd', 'np', 'plt', 'DictVectorizer', 'LinearRegression', 'mean_squared_error', \n",
    "             'sns', 'categorical'}\n",
    "\n",
    "# Clear all other variables from global scope\n",
    "for var in list(globals()):\n",
    "    if var not in keep_vars and not var.startswith(\"_\"):\n",
    "        del globals()[var]\n",
    "\n",
    "# Force garbage collection\n",
    "gc.collect()"
   ]
  },
  {
   "cell_type": "code",
   "execution_count": 23,
   "id": "dd64a581",
   "metadata": {},
   "outputs": [
    {
     "name": "stdout",
     "output_type": "stream",
     "text": [
      "              total        used        free      shared  buff/cache   available\r\n",
      "Mem:          7.8Gi       2.7Gi       4.0Gi        61Mi       1.0Gi       4.6Gi\r\n",
      "Swap:            0B          0B          0B\r\n"
     ]
    }
   ],
   "source": [
    "!free -h"
   ]
  },
  {
   "cell_type": "markdown",
   "id": "3f74474a",
   "metadata": {},
   "source": [
    "## Running on December dataset"
   ]
  },
  {
   "cell_type": "code",
   "execution_count": 24,
   "id": "c2a1a559",
   "metadata": {},
   "outputs": [],
   "source": [
    "def process_data(url, start_date, end_date):\n",
    "    _df = pd.read_parquet(url)\n",
    "    \n",
    "    _df['duration'] = _df['tpep_dropoff_datetime'] - _df['tpep_pickup_datetime']\n",
    "    _df['duration_minutes'] = _df['duration'].dt.total_seconds() / 60\n",
    "    _df = _df.loc[(_df.duration_minutes >= 1 ) & (_df.duration_minutes <= 60)].copy()\n",
    "    \n",
    "    _df['date'] = _df['tpep_pickup_datetime'].dt.date\n",
    "    _df['date'] = pd.to_datetime(_df['date'])\n",
    "    _df = _df.loc[(_df['date'] > pd.Timestamp(start_date)) & \n",
    "            (_df['date'] <= pd.Timestamp(end_date))].copy()\n",
    "    \n",
    "    _df[categorical] = _df[categorical].astype('str')\n",
    "    return _df"
   ]
  },
  {
   "cell_type": "code",
   "execution_count": 25,
   "id": "d2c88805",
   "metadata": {},
   "outputs": [],
   "source": [
    "dec = process_data('https://d37ci6vzurychx.cloudfront.net/trip-data/yellow_tripdata_2024-12.parquet', \n",
    "                   \"2024-11-30\", \"2024-12-31\")"
   ]
  },
  {
   "cell_type": "code",
   "execution_count": 26,
   "id": "fee45843",
   "metadata": {},
   "outputs": [],
   "source": [
    "dec_val_dicts = dec[categorical].to_dict(orient='records')"
   ]
  },
  {
   "cell_type": "code",
   "execution_count": 27,
   "id": "72ad57c4",
   "metadata": {},
   "outputs": [],
   "source": [
    "X_val = dv.transform(dec_val_dicts) \n",
    "y_val = dec.duration_minutes.values"
   ]
  },
  {
   "cell_type": "code",
   "execution_count": 28,
   "id": "8d1a2bee",
   "metadata": {},
   "outputs": [],
   "source": [
    "y_pred = model.predict(X_val)"
   ]
  },
  {
   "cell_type": "code",
   "execution_count": 29,
   "id": "244eed06",
   "metadata": {},
   "outputs": [
    {
     "name": "stdout",
     "output_type": "stream",
     "text": [
      "Val RMSE: 9.754467754227132\n"
     ]
    }
   ],
   "source": [
    "print(f'Val RMSE: {mean_squared_error(y_val, y_pred, squared=False)}')"
   ]
  }
 ],
 "metadata": {
  "kernelspec": {
   "display_name": "Python 3 (ipykernel)",
   "language": "python",
   "name": "python3"
  },
  "language_info": {
   "codemirror_mode": {
    "name": "ipython",
    "version": 3
   },
   "file_extension": ".py",
   "mimetype": "text/x-python",
   "name": "python",
   "nbconvert_exporter": "python",
   "pygments_lexer": "ipython3",
   "version": "3.9.12"
  }
 },
 "nbformat": 4,
 "nbformat_minor": 5
}
